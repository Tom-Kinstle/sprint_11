{
 "cells": [
  {
   "cell_type": "markdown",
   "metadata": {},
   "source": [
    "# Obfuscating Insurance "
   ]
  },
  {
   "cell_type": "markdown",
   "metadata": {},
   "source": [
    "### The goal of our project is to take customer insurance information and use it to predict where customers may use insurance benefits. This will help insurance agents better understand their clients' needs and assess risks when offering insurance."
   ]
  },
  {
   "cell_type": "code",
   "execution_count": 1,
   "metadata": {},
   "outputs": [],
   "source": [
    "import pandas as pd \n",
    "import numpy as np\n",
    "import matplotlib.pyplot as plt\n",
    "import seaborn as sns\n",
    "from scipy.spatial import distance\n",
    "from sklearn.metrics import r2_score"
   ]
  },
  {
   "cell_type": "code",
   "execution_count": 2,
   "metadata": {},
   "outputs": [],
   "source": [
    "url = 'https://practicum-content.s3.us-west-1.amazonaws.com/datasets/insurance_us.csv'\n",
    "df = pd.read_csv(url)"
   ]
  },
  {
   "cell_type": "code",
   "execution_count": 3,
   "metadata": {},
   "outputs": [
    {
     "name": "stdout",
     "output_type": "stream",
     "text": [
      "<class 'pandas.core.frame.DataFrame'>\n",
      "RangeIndex: 5000 entries, 0 to 4999\n",
      "Data columns (total 5 columns):\n",
      " #   Column              Non-Null Count  Dtype  \n",
      "---  ------              --------------  -----  \n",
      " 0   Gender              5000 non-null   int64  \n",
      " 1   Age                 5000 non-null   float64\n",
      " 2   Salary              5000 non-null   float64\n",
      " 3   Family members      5000 non-null   int64  \n",
      " 4   Insurance benefits  5000 non-null   int64  \n",
      "dtypes: float64(2), int64(3)\n",
      "memory usage: 195.4 KB\n"
     ]
    },
    {
     "data": {
      "text/plain": [
       "None"
      ]
     },
     "metadata": {},
     "output_type": "display_data"
    },
    {
     "data": {
      "text/html": [
       "<div>\n",
       "<style scoped>\n",
       "    .dataframe tbody tr th:only-of-type {\n",
       "        vertical-align: middle;\n",
       "    }\n",
       "\n",
       "    .dataframe tbody tr th {\n",
       "        vertical-align: top;\n",
       "    }\n",
       "\n",
       "    .dataframe thead th {\n",
       "        text-align: right;\n",
       "    }\n",
       "</style>\n",
       "<table border=\"1\" class=\"dataframe\">\n",
       "  <thead>\n",
       "    <tr style=\"text-align: right;\">\n",
       "      <th></th>\n",
       "      <th>Gender</th>\n",
       "      <th>Age</th>\n",
       "      <th>Salary</th>\n",
       "      <th>Family members</th>\n",
       "      <th>Insurance benefits</th>\n",
       "    </tr>\n",
       "  </thead>\n",
       "  <tbody>\n",
       "    <tr>\n",
       "      <th>count</th>\n",
       "      <td>5000.000000</td>\n",
       "      <td>5000.000000</td>\n",
       "      <td>5000.000000</td>\n",
       "      <td>5000.000000</td>\n",
       "      <td>5000.000000</td>\n",
       "    </tr>\n",
       "    <tr>\n",
       "      <th>mean</th>\n",
       "      <td>0.499000</td>\n",
       "      <td>30.952800</td>\n",
       "      <td>39916.360000</td>\n",
       "      <td>1.194200</td>\n",
       "      <td>0.148000</td>\n",
       "    </tr>\n",
       "    <tr>\n",
       "      <th>std</th>\n",
       "      <td>0.500049</td>\n",
       "      <td>8.440807</td>\n",
       "      <td>9900.083569</td>\n",
       "      <td>1.091387</td>\n",
       "      <td>0.463183</td>\n",
       "    </tr>\n",
       "    <tr>\n",
       "      <th>min</th>\n",
       "      <td>0.000000</td>\n",
       "      <td>18.000000</td>\n",
       "      <td>5300.000000</td>\n",
       "      <td>0.000000</td>\n",
       "      <td>0.000000</td>\n",
       "    </tr>\n",
       "    <tr>\n",
       "      <th>25%</th>\n",
       "      <td>0.000000</td>\n",
       "      <td>24.000000</td>\n",
       "      <td>33300.000000</td>\n",
       "      <td>0.000000</td>\n",
       "      <td>0.000000</td>\n",
       "    </tr>\n",
       "    <tr>\n",
       "      <th>50%</th>\n",
       "      <td>0.000000</td>\n",
       "      <td>30.000000</td>\n",
       "      <td>40200.000000</td>\n",
       "      <td>1.000000</td>\n",
       "      <td>0.000000</td>\n",
       "    </tr>\n",
       "    <tr>\n",
       "      <th>75%</th>\n",
       "      <td>1.000000</td>\n",
       "      <td>37.000000</td>\n",
       "      <td>46600.000000</td>\n",
       "      <td>2.000000</td>\n",
       "      <td>0.000000</td>\n",
       "    </tr>\n",
       "    <tr>\n",
       "      <th>max</th>\n",
       "      <td>1.000000</td>\n",
       "      <td>65.000000</td>\n",
       "      <td>79000.000000</td>\n",
       "      <td>6.000000</td>\n",
       "      <td>5.000000</td>\n",
       "    </tr>\n",
       "  </tbody>\n",
       "</table>\n",
       "</div>"
      ],
      "text/plain": [
       "            Gender          Age        Salary  Family members  \\\n",
       "count  5000.000000  5000.000000   5000.000000     5000.000000   \n",
       "mean      0.499000    30.952800  39916.360000        1.194200   \n",
       "std       0.500049     8.440807   9900.083569        1.091387   \n",
       "min       0.000000    18.000000   5300.000000        0.000000   \n",
       "25%       0.000000    24.000000  33300.000000        0.000000   \n",
       "50%       0.000000    30.000000  40200.000000        1.000000   \n",
       "75%       1.000000    37.000000  46600.000000        2.000000   \n",
       "max       1.000000    65.000000  79000.000000        6.000000   \n",
       "\n",
       "       Insurance benefits  \n",
       "count         5000.000000  \n",
       "mean             0.148000  \n",
       "std              0.463183  \n",
       "min              0.000000  \n",
       "25%              0.000000  \n",
       "50%              0.000000  \n",
       "75%              0.000000  \n",
       "max              5.000000  "
      ]
     },
     "metadata": {},
     "output_type": "display_data"
    }
   ],
   "source": [
    "display(df.info())  \n",
    "display(df.describe()) "
   ]
  },
  {
   "cell_type": "code",
   "execution_count": 4,
   "metadata": {},
   "outputs": [
    {
     "name": "stdout",
     "output_type": "stream",
     "text": [
      "duplicate rows: 153\n"
     ]
    }
   ],
   "source": [
    "# count for any duplicates\n",
    "num_duplicates = df.duplicated().sum()\n",
    "# print number of duplicate rows \n",
    "print(f\"duplicate rows: {num_duplicates}\")"
   ]
  },
  {
   "cell_type": "markdown",
   "metadata": {},
   "source": [
    "### Reviewing the data, we do not see any Personally Identifiable Information(PII). We also do not find any data elements acting to uniquely identify each record, such as customer ID number. Given the limited dataset with only 5 columns and a limited number of accepted values for each column (gender = 0 or 1), we can estimate the probability of these being true duplicates. Ignoring the salary column because it could be considered continuous, for the remaining rows we have a probability of:\n",
    "\n",
    "Probability = (1/2) x (1/47){Age max 65 - Age min 18} x (1/7) x (1/6) = 1/3948\n",
    "\n",
    "### While ignoring the continuous variable of salary, we should only expect 1-2 duplicates, not 153. Therefore, we will drop them as actual duplicate values."
   ]
  },
  {
   "cell_type": "code",
   "execution_count": 5,
   "metadata": {},
   "outputs": [],
   "source": [
    "# drop duplicates\n",
    "df = df.drop_duplicates()\n",
    "# standardize column names\n",
    "df.columns = df.columns.str.lower()"
   ]
  },
  {
   "cell_type": "code",
   "execution_count": 6,
   "metadata": {},
   "outputs": [
    {
     "name": "stdout",
     "output_type": "stream",
     "text": [
      "<class 'pandas.core.frame.DataFrame'>\n",
      "Index: 4847 entries, 0 to 4999\n",
      "Data columns (total 5 columns):\n",
      " #   Column              Non-Null Count  Dtype  \n",
      "---  ------              --------------  -----  \n",
      " 0   gender              4847 non-null   int64  \n",
      " 1   age                 4847 non-null   float64\n",
      " 2   salary              4847 non-null   float64\n",
      " 3   family members      4847 non-null   int64  \n",
      " 4   insurance benefits  4847 non-null   int64  \n",
      "dtypes: float64(2), int64(3)\n",
      "memory usage: 227.2 KB\n"
     ]
    },
    {
     "data": {
      "text/plain": [
       "None"
      ]
     },
     "metadata": {},
     "output_type": "display_data"
    }
   ],
   "source": [
    "display(df.info())  "
   ]
  },
  {
   "cell_type": "code",
   "execution_count": 7,
   "metadata": {},
   "outputs": [
    {
     "data": {
      "image/png": "[encoded data removed]",
      "text/plain": [
       "<Figure size 1000x600 with 1 Axes>"
      ]
     },
     "metadata": {},
     "output_type": "display_data"
    }
   ],
   "source": [
    "# graph salary\n",
    "plt.figure(figsize=(10, 6))\n",
    "sns.histplot(df['salary'], kde=True, bins=30)\n",
    "plt.title('Distribution of Salary')\n",
    "plt.xlabel('Salary')\n",
    "plt.ylabel('Frequency')\n",
    "plt.show()"
   ]
  },
  {
   "cell_type": "markdown",
   "metadata": {},
   "source": [
    "### Other than dropping duplicates and standardizing column names, our data seem to fit acceptable norms for processing in our model."
   ]
  },
  {
   "cell_type": "markdown",
   "metadata": {},
   "source": [
    "# Find Similar Customers"
   ]
  },
  {
   "cell_type": "code",
   "execution_count": 8,
   "metadata": {},
   "outputs": [
    {
     "name": "stdout",
     "output_type": "stream",
     "text": [
      "similar customer: 1876\n",
      "gender                    1.0\n",
      "age                      36.0\n",
      "salary                49100.0\n",
      "family members            0.0\n",
      "insurance benefits        0.0\n",
      "Name: 1876, dtype: float64\n"
     ]
    }
   ],
   "source": [
    "# customer index\n",
    "customer_index = 123\n",
    "customer_vector = df.drop('insurance benefits', axis=1).loc[customer_index].values\n",
    "\n",
    "# distances to other customer\n",
    "distances = [distance.euclidean(customer_vector, df.drop('insurance benefits', axis=1).loc[i].values) for i in df.index]\n",
    "\n",
    "similar_index = np.array(distances).argsort()[1]\n",
    "\n",
    "print('similar customer:', similar_index)\n",
    "print(df.loc[similar_index])"
   ]
  },
  {
   "cell_type": "markdown",
   "metadata": {},
   "source": [
    "###  This will help the company's agents determine which other products may be interested in. "
   ]
  },
  {
   "cell_type": "markdown",
   "metadata": {},
   "source": [
    "## Predict Benefits for New Customer"
   ]
  },
  {
   "cell_type": "code",
   "execution_count": 9,
   "metadata": {},
   "outputs": [
    {
     "name": "stdout",
     "output_type": "stream",
     "text": [
      "Predicted insurance benefits for the new customer: 2\n"
     ]
    }
   ],
   "source": [
    "\n",
    "# target\n",
    "train_features = df.drop('insurance benefits', axis=1)\n",
    "train_target = df['insurance benefits']\n",
    "\n",
    "def nearest_neighbor_predict(train_features, train_target, new_features):\n",
    "    distances = []\n",
    "    for i in range(train_features.shape[0]):\n",
    "        dist = distance.euclidean(new_features, train_features.iloc[i].values)\n",
    "        distances.append(dist)\n",
    "    best_index = np.argmin(distances)\n",
    "\n",
    "    answer = train_target.iloc[best_index]\n",
    "    return answer\n",
    "\n",
    "# customer \n",
    "new_customer = np.array([0, 50, 42000, 1])\n",
    "\n",
    "# Predict insurance benefits\n",
    "prediction = nearest_neighbor_predict(train_features, train_target, new_customer)\n",
    "print(f\"Predicted insurance benefits for the new customer: {prediction}\")"
   ]
  },
  {
   "cell_type": "markdown",
   "metadata": {},
   "source": [
    "### The function above uses the K-Nearest Neighbors (k-NN) algorithm to find the most similar customers based on the features provided. While this approach can be helpful in determining the risks associated with a new customer, it may be too literal. Just because one person utilizes benefits based on age and salary doesn't mean the next similar person will do the same. Our linear model below does a better job at averaging out these differences. Given more data, both in quantity and the number of features, we could further improve our ability to assess risk."
   ]
  },
  {
   "cell_type": "code",
   "execution_count": 10,
   "metadata": {},
   "outputs": [
    {
     "name": "stdout",
     "output_type": "stream",
     "text": [
      "Predicted benefits for the new customer: 0.84\n",
      "R2 Score: 0.4302010044852068\n"
     ]
    }
   ],
   "source": [
    "# linear regression\n",
    "features = df.drop('insurance benefits', axis=1)\n",
    "target = df['insurance benefits']\n",
    "\n",
    "class LinearRegression:\n",
    "    def fit(self, train_features, train_target):\n",
    "        X = np.concatenate((np.ones((train_features.shape[0], 1)), train_features), axis=1)\n",
    "        y = train_target\n",
    "        w = np.linalg.inv(X.T @ X) @ (X.T @ y)\n",
    "        self.w = w[1:]\n",
    "        self.w0 = w[0]\n",
    "\n",
    "    def predict(self, test_features):\n",
    "        return test_features.dot(self.w) + self.w0\n",
    "    \n",
    "# model \n",
    "model = LinearRegression()\n",
    "model.fit(features, target)\n",
    "\n",
    "predictions = model.predict(features)\n",
    "\n",
    "# new customer features\n",
    "new_customer = np.array([0, 50, 42000, 1]).reshape(1, -1)\n",
    "\n",
    "# predict\n",
    "prediction = model.predict(new_customer)\n",
    "print(f\"Predicted benefits for the new customer: {prediction[0]:.2f}\")\n",
    "print(f\"R2 Score: {r2_score(target, predictions)}\")"
   ]
  },
  {
   "cell_type": "markdown",
   "metadata": {},
   "source": [
    "### Generally, a trained model will do better than a dummy model at predicting where something might be true based on patterns it finds in the data. However, each modeling method has its limitations and is only as good as the data it was provided. Humans are also very good at finding patterns and suffer from similar pitfalls. Some people can look at clouds and recognize all different kinds of shapes and objects (overfitting), while others can look at the same clouds and fail to recognize any patterns (underfitting). You're actually doing this right now, our eyes all have blind spots, and our brains are constantly filling in the missing information with a prediction. To control for model errors, we preprocess the data to avoid giving our model erroneous information and then validate our results."
   ]
  },
  {
   "cell_type": "code",
   "execution_count": 11,
   "metadata": {},
   "outputs": [],
   "source": [
    "# adding random noise\n",
    "np.random.seed(42)  \n",
    "noise = np.random.normal(0, 1, features['salary'].shape)  \n",
    "features['salary_noisy'] = features['salary'] + noise  \n",
    "features = features.drop('salary', axis=1)  "
   ]
  },
  {
   "cell_type": "markdown",
   "metadata": {},
   "source": [
    "### In the data provided, there is no single element that could be used to identify an individual. However, while annual income may not be unique to an individual it is quite specific. This information, along with other demographic details, could potentially lead to a breach of someone's personal information. To mitigate this risk we can add random noise to our model without affecting the results significantly."
   ]
  },
  {
   "cell_type": "code",
   "execution_count": 12,
   "metadata": {},
   "outputs": [
    {
     "name": "stdout",
     "output_type": "stream",
     "text": [
      "Predicted benefits for the new customer: 0.84\n",
      "R2 Score: 0.4302010044852068\n"
     ]
    }
   ],
   "source": [
    "# linear regression\n",
    "features = df.drop('insurance benefits', axis=1)\n",
    "target = df['insurance benefits']\n",
    "\n",
    "class LinearRegression:\n",
    "    def fit(self, train_features, train_target):\n",
    "        X = np.concatenate((np.ones((train_features.shape[0], 1)), train_features), axis=1)\n",
    "        y = train_target\n",
    "        w = np.linalg.inv(X.T @ X) @ (X.T @ y)\n",
    "        self.w = w[1:]\n",
    "        self.w0 = w[0]\n",
    "\n",
    "    def predict(self, test_features):\n",
    "        return test_features.dot(self.w) + self.w0\n",
    "    \n",
    "# model \n",
    "model = LinearRegression()\n",
    "model.fit(features, target)\n",
    "\n",
    "predictions = model.predict(features)\n",
    "\n",
    "# new customer features\n",
    "new_customer = np.array([0, 50, 42000, 1]).reshape(1, -1)\n",
    "\n",
    "# predict\n",
    "prediction = model.predict(new_customer)\n",
    "print(f\"Predicted benefits for the new customer: {prediction[0]:.2f}\")\n",
    "print(f\"R2 Score: {r2_score(target, predictions)}\")"
   ]
  },
  {
   "cell_type": "markdown",
   "metadata": {},
   "source": [
    "### There are some limits to our current model, using more data and different modeling techniques could improve our predictions. Still, this serves as an excellent example of how we can model, predict, and assess risks for both customers and insurance companies. By offering customers the right level of coverage and limiting risk when taking on new clients, we can enhance customer satisfaction and help save insurance company money.  "
   ]
  },
  {
   "cell_type": "markdown",
   "metadata": {},
   "source": [
    "All project files are available at Github : https://github.com/Tom-Kinstle/sprint_11"
   ]
  }
 ],
 "metadata": {
  "kernelspec": {
   "display_name": "Python 3",
   "language": "python",
   "name": "python3"
  },
  "language_info": {
   "codemirror_mode": {
    "name": "ipython",
    "version": 3
   },
   "file_extension": ".py",
   "mimetype": "text/x-python",
   "name": "python",
   "nbconvert_exporter": "python",
   "pygments_lexer": "ipython3",
   "version": "3.11.9"
  }
 },
 "nbformat": 4,
 "nbformat_minor": 2
}
